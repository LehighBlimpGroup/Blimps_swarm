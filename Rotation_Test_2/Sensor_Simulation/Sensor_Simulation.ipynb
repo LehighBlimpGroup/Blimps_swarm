{
 "cells": [
  {
   "cell_type": "code",
   "execution_count": 73,
   "metadata": {},
   "outputs": [],
   "source": [
    "# Import Packages\n",
    "import math\n",
    "import matplotlib.pyplot as plt\n",
    "import matplotlib.patches as patches\n",
    "from matplotlib.animation import FuncAnimation\n",
    "import numpy as np\n"
   ]
  },
  {
   "cell_type": "code",
   "execution_count": 74,
   "metadata": {},
   "outputs": [],
   "source": [
    "# Class to represent a cone\n",
    "class Cone:\n",
    "    def __init__(self, center, radius, starting_angle, end_angle):\n",
    "        self.center = center  # center is a tuple (x, y)\n",
    "        self.radius = radius  # radius is a float\n",
    "        self.starting_angle = starting_angle  # starting angle is a float in degrees\n",
    "        self.end_angle = end_angle  # end angle is a float in degrees\n",
    "\n",
    "    def getCenter(self):\n",
    "        return self.center\n",
    "\n",
    "    def getRadius(self):\n",
    "        return self.radius\n",
    "\n",
    "    def getStartingAngle(self):\n",
    "        return self.starting_angle\n",
    "\n",
    "    def getEndAngle(self):\n",
    "        return self.end_angle\n",
    "\n",
    "    def rotate(self, angle):\n",
    "        self.starting_angle += angle\n",
    "        self.end_angle += angle\n",
    "        self.starting_angle = self.starting_angle % 360\n",
    "        self.end_angle = self.end_angle % 360\n",
    "\n",
    "    def setCenter(self, center):\n",
    "        self.center = center\n",
    "\n",
    "    def Draw_Cone(self, ax, my_color, start_angle, end_angle):\n",
    "        wedge = patches.Wedge(\n",
    "            self.center, self.radius, start_angle, end_angle, color=my_color, alpha=0.5\n",
    "        )\n",
    "        ax.add_patch(wedge)  # add the wedge to the plot"
   ]
  },
  {
   "cell_type": "code",
   "execution_count": 75,
   "metadata": {},
   "outputs": [],
   "source": [
    "# Function\n",
    "'''\n",
    "description : Function to determine if the center of cone_1 is in cone_2\n",
    "param        [*] cone_1\n",
    "param        [*] cone_2\n",
    "return       [*] True if cone_1 is in cone_2, False otherwise\n",
    "'''\n",
    "\n",
    "\n",
    "def In_Cone(cone_1, cone_2):\n",
    "    # Convert the center of cone_1 to polar coordinates with cone_2 as the origin\n",
    "    x = cone_1.getCenter()[0] - cone_2.getCenter()[0]\n",
    "    y = cone_1.getCenter()[1] - cone_2.getCenter()[1]\n",
    "    r = math.sqrt(x**2 + y**2)\n",
    "    theta = math.degrees(math.atan2(y, x))\n",
    "    if theta < 0:\n",
    "        theta += 360\n",
    "\n",
    "    # Check if the center of cone_1 is in cone_2\n",
    "    if (\n",
    "        r <= cone_2.getRadius()\n",
    "        and theta >= cone_2.getStartingAngle()\n",
    "        and theta <= cone_2.getEndAngle()\n",
    "    ):\n",
    "        return True\n",
    "    else:\n",
    "        return False\n",
    "\n",
    "\n",
    "'''\n",
    "description : Function to save the signal of the sensors\n",
    "param        [*] View_1\n",
    "param        [*] View_2\n",
    "return       [*]\n",
    "'''\n",
    "\n",
    "\n",
    "def Save_View(View_1, View_2):\n",
    "    View_1 = np.array(View_1)\n",
    "    View_2 = np.array(View_2)\n",
    "    np.save('View_1', View_1)\n",
    "    np.save('View_2', View_2)\n",
    "\n",
    "\n",
    "'''\n",
    "description : Function to save the log of the cones\n",
    "param        [*] Log_1\n",
    "param        [*] Log_2\n",
    "return       [*]\n",
    "'''\n",
    "\n",
    "\n",
    "def Save_Log(Log_1, Log_2):\n",
    "    Log_1 = np.array(Log_1)\n",
    "    Log_2 = np.array(Log_2)\n",
    "    np.save('Log_1', Log_1)\n",
    "    np.save('Log_2', Log_2)"
   ]
  },
  {
   "cell_type": "code",
   "execution_count": 76,
   "metadata": {},
   "outputs": [],
   "source": [
    "# Parameters\n",
    "Distance = 2  # Distance between the two sensors\n",
    "Radius = 3  # Height of the cone\n",
    "Starting_Angle_1 = 0  # Starting angle of the first sensor\n",
    "Starting_Angle_2 = 180  # Starting angle of the second sensor\n",
    "Angle = 45  # Angle of the sensor\n",
    "End_Angle_1 = Starting_Angle_1 + Angle  # Ending angle of the first sensor\n",
    "End_Angle_2 = Starting_Angle_2 + Angle  # Ending angle of the second sensor\n",
    "Speed_1 = 13  # Speed of the first sensor in degrees per frame\n",
    "Speed_2 = 13  # Speed of the second sensor in degrees per frame\n",
    "\n",
    "# Data Record\n",
    "View_1 = []  # Record the view of the first sensor\n",
    "View_2 = []  # Record the view of the second sensor\n",
    "Log_1 = []  # Log of the degree of first sensor\n",
    "Log_2 = []  # Log of the degree of second sensor\n",
    "\n",
    "# Animation Parameters\n",
    "Frame_Number = 400\n",
    "Frame_Interval = 40  # in milliseconds"
   ]
  },
  {
   "cell_type": "code",
   "execution_count": 77,
   "metadata": {},
   "outputs": [],
   "source": [
    "# Create two cones\n",
    "cone_1 = Cone([0, 0], Radius, Starting_Angle_1, End_Angle_1)\n",
    "cone_2 = Cone([0, Distance], Radius, Starting_Angle_2, End_Angle_2)\n"
   ]
  },
  {
   "cell_type": "code",
   "execution_count": 78,
   "metadata": {},
   "outputs": [],
   "source": [
    "# Simulation\n",
    "for i in range(Frame_Number):\n",
    "    cone_1.rotate(Speed_1)\n",
    "    cone_2.rotate(Speed_2)\n",
    "\n",
    "    # Determine if cone_1 is in cone_2\n",
    "    one_in_two = In_Cone(cone_1, cone_2)\n",
    "    two_in_one = In_Cone(cone_2, cone_1)\n",
    "    Log_1.append([cone_1.getStartingAngle(), cone_1.getEndAngle()])\n",
    "    Log_2.append([cone_2.getStartingAngle(), cone_2.getEndAngle()])\n",
    "\n",
    "    # Draw the cones\n",
    "    if two_in_one and one_in_two:\n",
    "        View_1.append(3)\n",
    "        View_2.append(1)\n",
    "    else:\n",
    "        View_1.append(2)\n",
    "        View_2.append(0)\n",
    "\n",
    "# Save the data\n",
    "# Save_View(View_1, View_2)\n",
    "# Save_Log(Log_1, Log_2)"
   ]
  },
  {
   "cell_type": "code",
   "execution_count": 79,
   "metadata": {},
   "outputs": [
    {
     "data": {
      "image/png": "[encoded data removed]",
      "text/plain": [
       "<Figure size 640x480 with 1 Axes>"
      ]
     },
     "metadata": {},
     "output_type": "display_data"
    }
   ],
   "source": [
    "# Plot the signal of the sensors\n",
    "fig, ax = plt.subplots()\n",
    "ax.plot(View_1, 'b', label='Sensor 1')\n",
    "ax.plot(View_2, 'r', label='Sensor 2')\n",
    "ax.set_ylim([-1, 4])\n",
    "ax.set_xlabel('Frame')\n",
    "ax.set_ylabel('Signal')\n",
    "ax.set_title('Signal of the Sensors')\n",
    "ax.legend()\n",
    "plt.savefig('Data-' + str(Distance) + '.png')\n",
    "plt.show()"
   ]
  },
  {
   "cell_type": "code",
   "execution_count": 80,
   "metadata": {},
   "outputs": [
    {
     "data": {
      "image/png": "[encoded data removed]",
      "text/plain": [
       "<Figure size 640x480 with 1 Axes>"
      ]
     },
     "metadata": {},
     "output_type": "display_data"
    }
   ],
   "source": [
    "# Create the animation\n",
    "fig, ax = plt.subplots()\n",
    "\n",
    "\n",
    "def animate(t):\n",
    "    ax.clear()\n",
    "    plt.xlim([-4, 4])\n",
    "    plt.ylim([-5, 7])\n",
    "    plt.title('Simulation of the Sensors')\n",
    "    plt.xlabel('x')\n",
    "    plt.ylabel('y')\n",
    "    if View_1[t] == 3:\n",
    "        cone_1.Draw_Cone(ax, 'g', Log_1[t][0], Log_1[t][1])\n",
    "    else:\n",
    "        cone_1.Draw_Cone(ax, 'b', Log_1[t][0], Log_1[t][1])\n",
    "    if View_2[t] == 1:\n",
    "        cone_2.Draw_Cone(ax, 'g', Log_2[t][0], Log_2[t][1])\n",
    "    else:\n",
    "        cone_2.Draw_Cone(ax, 'r', Log_2[t][0], Log_2[t][1])\n",
    "    # Set the scale of the axis\n",
    "    ax.set_aspect('equal', adjustable='box')\n",
    "    ax.grid()\n",
    "\n",
    "\n",
    "frame = np.arange(0, Frame_Number, 1)\n",
    "anim = FuncAnimation(\n",
    "    fig, animate, frames=frame, interval=Frame_Interval\n",
    ")  # interval increased for slower animation\n",
    "\n",
    "# Save the animation as a mp4 file\n",
    "anim.save('animation-' + str(Distance) + '.mp4', writer='ffmpeg')"
   ]
  }
 ],
 "metadata": {
  "kernelspec": {
   "display_name": "Python 3",
   "language": "python",
   "name": "python3"
  },
  "language_info": {
   "codemirror_mode": {
    "name": "ipython",
    "version": 3
   },
   "file_extension": ".py",
   "mimetype": "text/x-python",
   "name": "python",
   "nbconvert_exporter": "python",
   "pygments_lexer": "ipython3",
   "version": "3.11.3"
  },
  "orig_nbformat": 4
 },
 "nbformat": 4,
 "nbformat_minor": 2
}
